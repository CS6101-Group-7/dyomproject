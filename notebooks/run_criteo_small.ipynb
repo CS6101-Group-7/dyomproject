{
 "cells": [
  {
   "cell_type": "code",
   "execution_count": 1,
   "metadata": {},
   "outputs": [],
   "source": [
    "import pandas as pd\n",
    "import torch\n",
    "import matplotlib\n",
    "import matplotlib.pyplot as plt\n",
    "import numpy as np\n",
    "\n",
    "from dyomproject.visualization import generate_confusion_matrix, generate_loss_graph\n",
    "from dyomproject.config import criteo_sample_path\n",
    "from sklearn.metrics import log_loss, roc_auc_score, confusion_matrix\n",
    "from sklearn.model_selection import train_test_split\n",
    "from sklearn.preprocessing import LabelEncoder, MinMaxScaler"
   ]
  },
  {
   "cell_type": "code",
   "execution_count": 2,
   "metadata": {},
   "outputs": [],
   "source": [
    "from deepctr_torch.models import DeepFM"
   ]
  },
  {
   "cell_type": "code",
   "execution_count": 3,
   "metadata": {},
   "outputs": [],
   "source": [
    "from deepctr_torch.inputs import SparseFeat, DenseFeat, get_feature_names"
   ]
  },
  {
   "cell_type": "code",
   "execution_count": 4,
   "metadata": {},
   "outputs": [],
   "source": [
    "sparse_features = ['C' + str(i) for i in range(1, 27)]\n",
    "dense_features = ['I' + str(i) for i in range(1, 14)]\n",
    "names=[\"label\"]+sparse_features+dense_features\n",
    "data = pd.read_csv('../data/criteo/criteo_small.txt',sep='\\t', \n",
    "                  names=[\"label\"]+dense_features+sparse_features)\n",
    "\n",
    "data[sparse_features] = data[sparse_features].fillna('-1', )\n",
    "data[dense_features] = data[dense_features].fillna(0, )\n",
    "target = ['label']"
   ]
  },
  {
   "cell_type": "code",
   "execution_count": 5,
   "metadata": {},
   "outputs": [],
   "source": [
    "# 1.Label Encoding for sparse features,and do simple Transformation for dense features\n",
    "for feat in sparse_features:\n",
    "    lbe = LabelEncoder()\n",
    "    data[feat] = lbe.fit_transform(data[feat])\n",
    "mms = MinMaxScaler(feature_range=(0, 1))\n",
    "data[dense_features] = mms.fit_transform(data[dense_features])"
   ]
  },
  {
   "cell_type": "code",
   "execution_count": 6,
   "metadata": {},
   "outputs": [],
   "source": [
    "# 2.count #unique features for each sparse field,and record dense feature field name\n",
    "\n",
    "fixlen_feature_columns = [SparseFeat(feat, vocabulary_size=data[feat].nunique(),embedding_dim=4 )\n",
    "                       for i,feat in enumerate(sparse_features)] + [DenseFeat(feat, 1,)\n",
    "                      for feat in dense_features]\n",
    "\n",
    "dnn_feature_columns = fixlen_feature_columns\n",
    "linear_feature_columns = fixlen_feature_columns\n",
    "\n",
    "feature_names = get_feature_names(linear_feature_columns + dnn_feature_columns)"
   ]
  },
  {
   "cell_type": "code",
   "execution_count": 7,
   "metadata": {},
   "outputs": [],
   "source": [
    "# 3.generate input data for model\n",
    "\n",
    "train, test = train_test_split(data, test_size=0.2, random_state=2020)\n",
    "train_model_input = {name:train[name] for name in feature_names}\n",
    "test_model_input = {name:test[name] for name in feature_names}"
   ]
  },
  {
   "cell_type": "code",
   "execution_count": 8,
   "metadata": {},
   "outputs": [
    {
     "name": "stdout",
     "output_type": "stream",
     "text": [
      "cuda ready...\n"
     ]
    }
   ],
   "source": [
    "device = 'cpu'\n",
    "use_cuda = True\n",
    "if use_cuda and torch.cuda.is_available():\n",
    "    print('cuda ready...')\n",
    "    device = 'cuda:0'"
   ]
  },
  {
   "cell_type": "code",
   "execution_count": 9,
   "metadata": {},
   "outputs": [],
   "source": [
    "# 4.Define Model,train,predict and evaluate\n",
    "model_DEEP = DeepFM(linear_feature_columns, dnn_feature_columns, dnn_hidden_units=[20,20], dnn_dropout=0.3, task='binary',device=device)\n",
    "model_DEEP.compile(\"adam\", \"binary_crossentropy\",\n",
    "              metrics=['binary_crossentropy'], )\n",
    "model_FM = DeepFM(linear_feature_columns, dnn_feature_columns, dnn_hidden_units=[],task='binary',device=device)\n",
    "model_FM.compile(\"adam\", \"binary_crossentropy\",\n",
    "              metrics=['binary_crossentropy'], )"
   ]
  },
  {
   "cell_type": "code",
   "execution_count": 10,
   "metadata": {},
   "outputs": [
    {
     "name": "stdout",
     "output_type": "stream",
     "text": [
      "cuda:0\n",
      "Train on 64000 samples, validate on 16000 samples, 250 steps per epoch\n",
      "Epoch 1/10\n",
      "5s - loss:  0.5078 - binary_crossentropy:  0.5078 - val_binary_crossentropy:  0.4677\n",
      "Epoch 2/10\n",
      "5s - loss:  0.3876 - binary_crossentropy:  0.3876 - val_binary_crossentropy:  0.4855\n",
      "Epoch 3/10\n",
      "5s - loss:  0.2636 - binary_crossentropy:  0.2636 - val_binary_crossentropy:  0.5611\n",
      "Epoch 4/10\n",
      "5s - loss:  0.2006 - binary_crossentropy:  0.2005 - val_binary_crossentropy:  0.6032\n",
      "Epoch 5/10\n",
      "5s - loss:  0.1743 - binary_crossentropy:  0.1742 - val_binary_crossentropy:  0.6490\n",
      "Epoch 6/10\n",
      "5s - loss:  0.1587 - binary_crossentropy:  0.1587 - val_binary_crossentropy:  0.6820\n",
      "Epoch 7/10\n",
      "5s - loss:  0.1480 - binary_crossentropy:  0.1479 - val_binary_crossentropy:  0.7196\n",
      "Epoch 8/10\n",
      "5s - loss:  0.1404 - binary_crossentropy:  0.1403 - val_binary_crossentropy:  0.7515\n",
      "Epoch 9/10\n",
      "5s - loss:  0.1347 - binary_crossentropy:  0.1346 - val_binary_crossentropy:  0.7772\n",
      "Epoch 10/10\n",
      "5s - loss:  0.1292 - binary_crossentropy:  0.1291 - val_binary_crossentropy:  0.8018\n",
      "cuda:0\n",
      "Train on 64000 samples, validate on 16000 samples, 250 steps per epoch\n",
      "Epoch 1/10\n",
      "4s - loss:  0.5200 - binary_crossentropy:  0.5200 - val_binary_crossentropy:  0.4762\n",
      "Epoch 2/10\n",
      "4s - loss:  0.4175 - binary_crossentropy:  0.4175 - val_binary_crossentropy:  0.4667\n",
      "Epoch 3/10\n",
      "4s - loss:  0.3374 - binary_crossentropy:  0.3374 - val_binary_crossentropy:  0.4806\n",
      "Epoch 4/10\n",
      "5s - loss:  0.2750 - binary_crossentropy:  0.2750 - val_binary_crossentropy:  0.4998\n",
      "Epoch 5/10\n",
      "4s - loss:  0.2327 - binary_crossentropy:  0.2326 - val_binary_crossentropy:  0.5227\n",
      "Epoch 6/10\n",
      "4s - loss:  0.2037 - binary_crossentropy:  0.2035 - val_binary_crossentropy:  0.5437\n",
      "Epoch 7/10\n",
      "5s - loss:  0.1834 - binary_crossentropy:  0.1832 - val_binary_crossentropy:  0.5684\n",
      "Epoch 8/10\n",
      "4s - loss:  0.1684 - binary_crossentropy:  0.1682 - val_binary_crossentropy:  0.5872\n",
      "Epoch 9/10\n",
      "4s - loss:  0.1561 - binary_crossentropy:  0.1559 - val_binary_crossentropy:  0.6051\n",
      "Epoch 10/10\n",
      "4s - loss:  0.1463 - binary_crossentropy:  0.1460 - val_binary_crossentropy:  0.6286\n"
     ]
    }
   ],
   "source": [
    "history_DEEP = model_DEEP.fit(train_model_input, train[target].values,\n",
    "                        batch_size=256, epochs=10, verbose=2, validation_split=0.2, )\n",
    "history_FM = model_FM.fit(train_model_input, train[target].values,\n",
    "                        batch_size=256, epochs=10, verbose=2, validation_split=0.2, )"
   ]
  },
  {
   "cell_type": "code",
   "execution_count": 11,
   "metadata": {},
   "outputs": [],
   "source": [
    "pred_ans_DEEP = model_DEEP.predict(test_model_input, batch_size=256)\n",
    "pred_ans_FM = model_FM.predict(test_model_input, batch_size=256)\n",
    "#print(\"test LogLoss\", round(log_loss(test[target].values, pred_ans), 4))\n",
    "#print(\"test AUC\", round(roc_auc_score(test[target].values, pred_ans), 4))"
   ]
  },
  {
   "cell_type": "code",
   "execution_count": 12,
   "metadata": {},
   "outputs": [
    {
     "data": {
      "image/png": "[encoded data removed]",
      "text/plain": [
       "<Figure size 432x288 with 1 Axes>"
      ]
     },
     "metadata": {
      "needs_background": "light"
     },
     "output_type": "display_data"
    }
   ],
   "source": [
    "generate_loss_graph([history_DEEP,history_FM],[\"DeepFM\",\"FM\"],\"binary_crossentropy\")"
   ]
  },
  {
   "cell_type": "code",
   "execution_count": 13,
   "metadata": {},
   "outputs": [
    {
     "data": {
      "image/png": "[encoded data removed]",
      "text/plain": [
       "<Figure size 432x288 with 1 Axes>"
      ]
     },
     "metadata": {
      "needs_background": "light"
     },
     "output_type": "display_data"
    }
   ],
   "source": [
    "generate_confusion_matrix(test[target].values.flatten(),[round(x) for x in pred_ans_FM.flatten()])"
   ]
  },
  {
   "cell_type": "code",
   "execution_count": 6,
   "metadata": {},
   "outputs": [
    {
     "name": "stdout",
     "output_type": "stream",
     "text": [
      "(1, 'a')\n",
      "(2, 'b')\n",
      "(3, 'c')\n"
     ]
    }
   ],
   "source": [
    "i = [1,2,3]\n",
    "k = ['a','b','c']\n",
    "\n",
    "for z in zip(i,k):\n",
    "    print(z)"
   ]
  },
  {
   "cell_type": "code",
   "execution_count": null,
   "metadata": {},
   "outputs": [],
   "source": []
  }
 ],
 "metadata": {
  "kernelspec": {
   "display_name": "dyom",
   "language": "python",
   "name": "dyom"
  },
  "language_info": {
   "codemirror_mode": {
    "name": "ipython",
    "version": 3
   },
   "file_extension": ".py",
   "mimetype": "text/x-python",
   "name": "python",
   "nbconvert_exporter": "python",
   "pygments_lexer": "ipython3",
   "version": "3.7.9"
  }
 },
 "nbformat": 4,
 "nbformat_minor": 2
}
