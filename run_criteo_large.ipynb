{
 "cells": [
  {
   "cell_type": "code",
   "execution_count": 1,
   "metadata": {},
   "outputs": [],
   "source": [
    "import pandas as pd\n",
    "from sklearn.metrics import log_loss, roc_auc_score\n",
    "from sklearn.model_selection import train_test_split\n",
    "from sklearn.preprocessing import LabelEncoder, MinMaxScaler"
   ]
  },
  {
   "cell_type": "code",
   "execution_count": 2,
   "metadata": {},
   "outputs": [],
   "source": [
    "from deepctr_torch.models import DeepFM"
   ]
  },
  {
   "cell_type": "code",
   "execution_count": 3,
   "metadata": {},
   "outputs": [],
   "source": [
    "from deepctr_torch.inputs import SparseFeat, DenseFeat, get_feature_names"
   ]
  },
  {
   "cell_type": "code",
   "execution_count": 12,
   "metadata": {},
   "outputs": [
    {
     "name": "stdout",
     "output_type": "stream",
     "text": [
      "       label    I1   I2     I3    I4        I5    I6    I7    I8     I9  ...  \\\n",
      "0          0   1.0    1    5.0   0.0    1382.0   4.0  15.0   2.0  181.0  ...   \n",
      "1          0   2.0    0   44.0   1.0     102.0   8.0   2.0   2.0    4.0  ...   \n",
      "2          0   2.0    0    1.0  14.0     767.0  89.0   4.0   2.0  245.0  ...   \n",
      "3          0   0.0  893    0.0   0.0    4392.0   0.0   0.0   0.0    0.0  ...   \n",
      "4          0   3.0   -1    0.0   0.0       2.0   0.0   3.0   0.0    0.0  ...   \n",
      "...      ...   ...  ...    ...   ...       ...   ...   ...   ...    ...  ...   \n",
      "99995      0   1.0   60   37.0   0.0       1.0   0.0   4.0   0.0   23.0  ...   \n",
      "99996      1   0.0    0   12.0   0.0  173121.0   0.0   0.0   3.0   10.0  ...   \n",
      "99997      0  10.0    2    1.0  26.0     482.0  60.0  10.0  11.0   60.0  ...   \n",
      "99998      0   0.0  390   43.0   4.0  345365.0   0.0   0.0   4.0    4.0  ...   \n",
      "99999      0   0.0   -1  137.0  19.0    9504.0   0.0   0.0  22.0   22.0  ...   \n",
      "\n",
      "            C17       C18       C19       C20       C21       C22       C23  \\\n",
      "0      e5ba7672  f54016b9  21ddcdc9  b1252a9d  07b5194c        -1  3a171ecb   \n",
      "1      07c540c4  b04e4670  21ddcdc9  5840adea  60f6221e        -1  3a171ecb   \n",
      "2      8efede7f  3412118d        -1        -1  e587c466  ad3062eb  3a171ecb   \n",
      "3      1e88c74f  74ef3502        -1        -1  6b3a5ca6        -1  3a171ecb   \n",
      "4      1e88c74f  26b3c7a7        -1        -1  21c9516a        -1  32c7478e   \n",
      "...         ...       ...       ...       ...       ...       ...       ...   \n",
      "99995  e5ba7672  38b82d9f  21ddcdc9  b1252a9d  24e5131b        -1  32c7478e   \n",
      "99996  e5ba7672  b04e4670  21ddcdc9  b1252a9d  60f6221e        -1  32c7478e   \n",
      "99997  07c540c4  a7e06874  21ddcdc9  a458ea53  514b7308        -1  32c7478e   \n",
      "99998  e5ba7672  1cdbd1c5        -1        -1  d9d9202f        -1  32c7478e   \n",
      "99999  e5ba7672  582152eb  21ddcdc9  5840adea  0f78ab39  c9d4222a  32c7478e   \n",
      "\n",
      "            C24       C25       C26  \n",
      "0      c5c50484  e8b83407  9727dd16  \n",
      "1      43f13e8b  e8b83407  731c3655  \n",
      "2      3b183c5c        -1        -1  \n",
      "3      9117a34a        -1        -1  \n",
      "4      b34f3128        -1        -1  \n",
      "...         ...       ...       ...  \n",
      "99995  4fa16304  47907db5  72966777  \n",
      "99996  43f13e8b  ea9a246c  731c3655  \n",
      "99997  2fd70e1c  010f6491  ec26ad35  \n",
      "99998  8fc66e78        -1        -1  \n",
      "99999  cafb4e4d  001f3601  99f4f64c  \n",
      "\n",
      "[100000 rows x 40 columns]\n"
     ]
    }
   ],
   "source": [
    "sparse_features = ['C' + str(i) for i in range(1, 27)]\n",
    "dense_features = ['I' + str(i) for i in range(1, 14)]\n",
    "names=[\"label\"]+sparse_features+dense_features\n",
    "data = pd.read_csv('data/criteo_large.txt',sep='\\t', \n",
    "                  names=[\"label\"]+dense_features+sparse_features)\n",
    "\n",
    "data[sparse_features] = data[sparse_features].fillna('-1', )\n",
    "data[dense_features] = data[dense_features].fillna(0, )\n",
    "target = ['label']"
   ]
  },
  {
   "cell_type": "code",
   "execution_count": 13,
   "metadata": {},
   "outputs": [],
   "source": [
    "# 1.Label Encoding for sparse features,and do simple Transformation for dense features\n",
    "for feat in sparse_features:\n",
    "    lbe = LabelEncoder()\n",
    "    data[feat] = lbe.fit_transform(data[feat])\n",
    "mms = MinMaxScaler(feature_range=(0, 1))\n",
    "data[dense_features] = mms.fit_transform(data[dense_features])"
   ]
  },
  {
   "cell_type": "code",
   "execution_count": 14,
   "metadata": {},
   "outputs": [],
   "source": [
    "# 2.count #unique features for each sparse field,and record dense feature field name\n",
    "\n",
    "fixlen_feature_columns = [SparseFeat(feat, vocabulary_size=data[feat].nunique(),embedding_dim=4 )\n",
    "                       for i,feat in enumerate(sparse_features)] + [DenseFeat(feat, 1,)\n",
    "                      for feat in dense_features]\n",
    "\n",
    "dnn_feature_columns = fixlen_feature_columns\n",
    "linear_feature_columns = fixlen_feature_columns\n",
    "\n",
    "feature_names = get_feature_names(linear_feature_columns + dnn_feature_columns)"
   ]
  },
  {
   "cell_type": "code",
   "execution_count": 15,
   "metadata": {},
   "outputs": [],
   "source": [
    "# 3.generate input data for model\n",
    "\n",
    "train, test = train_test_split(data, test_size=0.2, random_state=2020)\n",
    "train_model_input = {name:train[name] for name in feature_names}\n",
    "test_model_input = {name:test[name] for name in feature_names}"
   ]
  },
  {
   "cell_type": "code",
   "execution_count": 16,
   "metadata": {},
   "outputs": [],
   "source": [
    "# 4.Define Model,train,predict and evaluate\n",
    "model = DeepFM(linear_feature_columns, dnn_feature_columns, task='binary')\n",
    "model.compile(\"adam\", \"binary_crossentropy\",\n",
    "              metrics=['binary_crossentropy'], )"
   ]
  },
  {
   "cell_type": "code",
   "execution_count": 17,
   "metadata": {},
   "outputs": [
    {
     "name": "stdout",
     "output_type": "stream",
     "text": [
      "cpu\n",
      "Train on 64000 samples, validate on 16000 samples, 250 steps per epoch\n",
      "Epoch 1/10\n",
      "15s - loss:  0.4875 - binary_crossentropy:  0.4875 - val_binary_crossentropy:  0.4591\n",
      "Epoch 2/10\n",
      "15s - loss:  0.3509 - binary_crossentropy:  0.3508 - val_binary_crossentropy:  0.5132\n",
      "Epoch 3/10\n",
      "15s - loss:  0.2356 - binary_crossentropy:  0.2356 - val_binary_crossentropy:  0.5630\n",
      "Epoch 4/10\n",
      "15s - loss:  0.1914 - binary_crossentropy:  0.1914 - val_binary_crossentropy:  0.6076\n",
      "Epoch 5/10\n",
      "15s - loss:  0.1677 - binary_crossentropy:  0.1677 - val_binary_crossentropy:  0.6567\n",
      "Epoch 6/10\n",
      "15s - loss:  0.1523 - binary_crossentropy:  0.1522 - val_binary_crossentropy:  0.7208\n",
      "Epoch 7/10\n",
      "15s - loss:  0.1396 - binary_crossentropy:  0.1395 - val_binary_crossentropy:  0.8021\n",
      "Epoch 8/10\n",
      "15s - loss:  0.1293 - binary_crossentropy:  0.1292 - val_binary_crossentropy:  0.8686\n",
      "Epoch 9/10\n",
      "15s - loss:  0.1210 - binary_crossentropy:  0.1209 - val_binary_crossentropy:  0.9358\n",
      "Epoch 10/10\n",
      "15s - loss:  0.1130 - binary_crossentropy:  0.1129 - val_binary_crossentropy:  1.0234\n"
     ]
    }
   ],
   "source": [
    "history = model.fit(train_model_input, train[target].values,\n",
    "                        batch_size=256, epochs=10, verbose=2, validation_split=0.2, )"
   ]
  },
  {
   "cell_type": "code",
   "execution_count": 18,
   "metadata": {},
   "outputs": [
    {
     "name": "stdout",
     "output_type": "stream",
     "text": [
      "test LogLoss 1.0578\n",
      "test AUC 0.665\n"
     ]
    }
   ],
   "source": [
    "pred_ans = model.predict(test_model_input, batch_size=256)\n",
    "print(\"test LogLoss\", round(log_loss(test[target].values, pred_ans), 4))\n",
    "print(\"test AUC\", round(roc_auc_score(test[target].values, pred_ans), 4))"
   ]
  },
  {
   "cell_type": "code",
   "execution_count": null,
   "metadata": {},
   "outputs": [],
   "source": []
  }
 ],
 "metadata": {
  "kernelspec": {
   "display_name": "dyom",
   "language": "python",
   "name": "dyom"
  },
  "language_info": {
   "codemirror_mode": {
    "name": "ipython",
    "version": 3
   },
   "file_extension": ".py",
   "mimetype": "text/x-python",
   "name": "python",
   "nbconvert_exporter": "python",
   "pygments_lexer": "ipython3",
   "version": "3.7.9"
  }
 },
 "nbformat": 4,
 "nbformat_minor": 2
}
